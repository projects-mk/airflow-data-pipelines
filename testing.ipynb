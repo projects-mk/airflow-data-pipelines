{
 "cells": [
  {
   "cell_type": "code",
   "execution_count": 50,
   "metadata": {},
   "outputs": [],
   "source": [
    "from dotenv import load_dotenv\n",
    "import pandas as pd\n",
    "from sqlalchemy import create_engine\n",
    "load_dotenv()\n",
    "from utils import generate_conn_string\n",
    "\n",
    "conn_str = generate_conn_string('projects')"
   ]
  },
  {
   "cell_type": "code",
   "execution_count": 55,
   "metadata": {},
   "outputs": [],
   "source": [
    "df = pd.read_sql_table('otomoto_raw', con=conn_str)"
   ]
  },
  {
   "cell_type": "code",
   "execution_count": 56,
   "metadata": {},
   "outputs": [],
   "source": [
    "from pandas import DataFrame\n",
    "\n",
    "def clean_df(df: DataFrame, y_col: str, fillna_dict: dict) -> DataFrame:\n",
    "    df = df.drop_duplicates()\n",
    "    df = df.dropna(how=\"all\")\n",
    "    df = df.drop(columns=['index', 'generacja','wersja'], errors='ignore')\n",
    "\n",
    "    df.reset_index(inplace=True, drop=True)\n",
    "\n",
    "    idxs_to_drop = []\n",
    "    for i in range(0,len(df)):\n",
    "        row = df.iloc[i]\n",
    "        cols_with_nans = []\n",
    "        for col in df.columns:\n",
    "            if not row[col]:\n",
    "                cols_with_nans.append(col)\n",
    "\n",
    "        if len(cols_with_nans)/len(df.columns) > 0.45 or not row[y_col]:\n",
    "            idxs_to_drop.append(i)\n",
    "\n",
    "    df = df.drop(idxs_to_drop)\n",
    "\n",
    "    for key,val in fillna_dict.items():\n",
    "        df[key] = df[key].fillna(val)\n",
    "\n",
    "    return df\n",
    "\n",
    "\n",
    "d = {'serwisowany_w_aso':'Nie',\n",
    "     'bezwypadkowy':'Nie',\n",
    "     'stan':'Używany'}\n",
    "\n",
    "df = clean_df(df, y_col='cena', fillna_dict=d)\n",
    "\n",
    "\n",
    "\n"
   ]
  },
  {
   "cell_type": "code",
   "execution_count": 65,
   "metadata": {},
   "outputs": [],
   "source": [
    "def convert_to(s: str, dtype: int|float):\n",
    "\n",
    "    if isinstance(s, str):\n",
    "        s = s.lower().replace(\"km\",\"\")\n",
    "        s = s.lower().replace('l/100km','')\n",
    "        s = s.lower().replace('l/100','')\n",
    "\n",
    "        s = s.lower().replace('cm3','')\n",
    "        s = s.replace(\" \",\"\")\n",
    "        s = s.replace(',','.')\n",
    "        s = s.strip()\n",
    "    \n",
    "    if not s:\n",
    "        return dtype(0)\n",
    "\n",
    "    return dtype(s)\n",
    "\n",
    "for col in ['cena','przebieg','pojemosc_skokowa','spalanie_w_miescie']:\n",
    "    df[col]= df[col].apply(convert_to, dtype=float)\n",
    "\n",
    "for col in ['rok_produkcji','moc','liczba_drzwi','liczba_miejsc']:\n",
    "    df[col]= df[col].apply(convert_to, dtype=int)\n",
    "\n",
    "df['stan'] = df['stan'].apply(lambda x: x.replace('Używane','Używany').replace('Nowe','Nowy'))\n"
   ]
  },
  {
   "cell_type": "code",
   "execution_count": 69,
   "metadata": {},
   "outputs": [],
   "source": [
    "from sklearn.model_selection import train_test_split\n",
    "\n",
    "y = df[['cena']]\n",
    "X = df[[col for col in df.columns if col != 'cena']]"
   ]
  },
  {
   "cell_type": "code",
   "execution_count": 70,
   "metadata": {},
   "outputs": [],
   "source": [
    "X_train, X_test, y_train, y_test = train_test_split(X, y, test_size=0.15, random_state=42)"
   ]
  },
  {
   "cell_type": "code",
   "execution_count": 75,
   "metadata": {},
   "outputs": [
    {
     "data": {
      "text/plain": [
       "685"
      ]
     },
     "execution_count": 75,
     "metadata": {},
     "output_type": "execute_result"
    }
   ],
   "source": [
    "\n",
    "df.to_sql('preprocessed',con=conn_str, schema='otomoto')\n",
    "\n",
    "X_test.to_sql('x_test',con=conn_str, schema='otomoto')\n",
    "y_test.to_sql('y_test',con=conn_str, schema='otomoto')\n",
    "\n",
    "X_train.to_sql('x_train',con=conn_str, schema='otomoto')\n",
    "y_train.to_sql('y_train',con=conn_str, schema='otomoto')"
   ]
  }
 ],
 "metadata": {
  "kernelspec": {
   "display_name": "airflow",
   "language": "python",
   "name": "python3"
  },
  "language_info": {
   "codemirror_mode": {
    "name": "ipython",
    "version": 3
   },
   "file_extension": ".py",
   "mimetype": "text/x-python",
   "name": "python",
   "nbconvert_exporter": "python",
   "pygments_lexer": "ipython3",
   "version": "3.12.4"
  }
 },
 "nbformat": 4,
 "nbformat_minor": 2
}
